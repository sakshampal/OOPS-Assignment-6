{
 "cells": [
  {
   "cell_type": "code",
   "execution_count": null,
   "id": "cda90f08-b272-4b83-8b9b-408720173459",
   "metadata": {},
   "outputs": [],
   "source": [
    "Q1. Explain Class and Object with respect to Object-Oriented Programming. Give a suitable example.\n",
    "\n",
    "Ans:  A class is a blueprint or a template for creating objects. It defines the properties and behaviors that the objectsof that class will have. \n",
    "      Think of a class as a blueprint for a specific type of object, like a blueprint for a car or a blueprint for a dog.\n"
   ]
  },
  {
   "cell_type": "code",
   "execution_count": 1,
   "id": "64d4d1f6-fd7c-41f9-bfe0-70ed359a64b2",
   "metadata": {},
   "outputs": [],
   "source": [
    "class car:\n",
    "    \n",
    "    def __init__(self , color , model):\n",
    "        self.color = color\n",
    "        self.model = model\n",
    "        \n",
    "    def drive(self):\n",
    "        print(\"the car is driving\")\n",
    "        "
   ]
  },
  {
   "cell_type": "code",
   "execution_count": 4,
   "id": "61d25172-c908-4806-8457-9a2f89eb7ea7",
   "metadata": {},
   "outputs": [],
   "source": [
    "Car = car(\"blue\", \"Tesla\")"
   ]
  },
  {
   "cell_type": "code",
   "execution_count": 5,
   "id": "1e482bd4-e3c5-4afb-869c-1107eabe1411",
   "metadata": {},
   "outputs": [
    {
     "data": {
      "text/plain": [
       "'blue'"
      ]
     },
     "execution_count": 5,
     "metadata": {},
     "output_type": "execute_result"
    }
   ],
   "source": [
    "Car.color"
   ]
  },
  {
   "cell_type": "code",
   "execution_count": 6,
   "id": "73362f20-8ce9-4ed6-b6c1-ee2a194d12df",
   "metadata": {},
   "outputs": [
    {
     "data": {
      "text/plain": [
       "'Tesla'"
      ]
     },
     "execution_count": 6,
     "metadata": {},
     "output_type": "execute_result"
    }
   ],
   "source": [
    "Car.model"
   ]
  },
  {
   "cell_type": "code",
   "execution_count": 8,
   "id": "238a9a2b-edee-4aa3-8200-7a9ea60d00e5",
   "metadata": {},
   "outputs": [
    {
     "name": "stdout",
     "output_type": "stream",
     "text": [
      "the car is driving\n"
     ]
    }
   ],
   "source": [
    "Car.drive()"
   ]
  },
  {
   "cell_type": "code",
   "execution_count": null,
   "id": "a6c3b5ee-d3a2-42a6-9a7a-5b887962f08f",
   "metadata": {},
   "outputs": [],
   "source": [
    "Q2. Name the four pillars of OOPs.\n",
    "\n",
    "Ans : ABSTRACTION\n",
    "      POLYMORPHISIM   \n",
    "      INHERITANCE\n",
    "      ENCAPSULATION"
   ]
  },
  {
   "cell_type": "code",
   "execution_count": null,
   "id": "37928fef-928a-4e17-88e7-42eebb044273",
   "metadata": {},
   "outputs": [],
   "source": [
    "Q3. Explain why the __init__() function is used. Give a suitable example.\n",
    "\n",
    "Ans: The __init__() function is a special method in Python classes that is automatically called\n",
    "when an object of that class is created. It is also known as the constructor method.\n",
    "\n",
    "The main purpose of the __init__() function is to initialize the attributes or properties of an object.\n",
    "It allows you to set the initial state of an object by specifying values for its attributes.\n",
    "\n",
    "Ex: class pwskills1 : \n",
    "    \n",
    "    def __init__(self , phone_number , email_id, student_id):\n",
    "        \n",
    "        self.phone_number = phone_number\n",
    "        self.email_id = email_id\n",
    "        self.student_id = student_id \n",
    "        \n",
    "    def return_student_details(self):\n",
    "        return self.student_id , self.phone_number , self.email_id\n",
    "    \n",
    "    saksham = pwskills1(7284004489 , \"saksham@gmail.com\",101)\n",
    "    saksham.email_id\n",
    "    saksham.phone_number\n",
    "    saksham.return_student_details()\n",
    "    \n"
   ]
  },
  {
   "cell_type": "code",
   "execution_count": null,
   "id": "582b9204-117a-40a1-b444-4ef42518b53c",
   "metadata": {},
   "outputs": [],
   "source": [
    "Q4. Why self is used in OOPs?\n",
    "\n",
    "Ans : In object-oriented programming (OOP), the self keyword is used to refer to the instance of a class. \n",
    "It acts as a reference to the current object being manipulated or accessed within a class method.\n",
    "\n",
    "1. Accessing instance attributes: Within a class method, you use self to access the instance attributes of the object. \n",
    "Instance attributes are specific to each object of the class and can hold different values for different objects. \n",
    "By using self.attribute_name, you can access and manipulate these attributes.\n",
    "\n",
    "2. Calling other class methods: self is also used to call other methods within a class.\n",
    "When you define methods in a class, you need to use self.method_name() to invoke those methods on the current object. \n",
    "It ensures that the correct instance of the object is used to execute the method.\n",
    "\n",
    "3. Passing the object as an argument: In some cases, you may need to pass the object itself as an argument to a method. \n",
    "By convention, the first parameter of a class method is typically named self to indicate that it refers to the current\n",
    "instance of the class. This allows methods to work with the specific object they are called on.\n",
    "\n"
   ]
  },
  {
   "cell_type": "code",
   "execution_count": null,
   "id": "0b40beee-04fb-43c3-b877-e18d629bd3d4",
   "metadata": {},
   "outputs": [],
   "source": [
    "Q5. What is inheritance? Give an example for each type of inheritance.\n",
    "\n",
    "Ans: Inheritance is a fundamental concept in object-oriented programming (OOP) that allows a class to inherit properties \n",
    "and behaviors from another class. It promotes code reuse and enables the creation of a hierarchical structure of classes.\n",
    "\n",
    "Inheritance establishes an \"is-a\" relationship between classes, where a derived class (also called a subclass or child class) inherits characteristics\n",
    "from a base class (also called a superclass or parent class). The derived class can extend or override the attributes\n",
    "and methods inherited from the base class while also adding its own unique attributes and methods.\n",
    "\n",
    "\n",
    "1. Single Inheritance: In single inheritance, a derived class inherits from a single base class. It forms a one-level hierarchy. Here's an example:\n",
    "\n",
    "class Animal:\n",
    "    def eat(self):\n",
    "        print(\"Eating...\")\n",
    "\n",
    "class Dog(Animal):\n",
    "    def bark(self):\n",
    "        print(\"Barking...\")\n",
    "\n",
    "my_dog = Dog()\n",
    "\n",
    "my_dog.eat()  # Output: Eating..\n",
    "\n",
    "my_dog.bark()  # Output: Barking...\n",
    "\n",
    "2. Multiple Inheritance: Multiple inheritance occurs when a derived class inherits from multiple base classes. \n",
    "It allows the derived class to inherit attributes and methods from more than one class. Here's an example:\n",
    "\n",
    "class Fish:\n",
    "    def swim(self):\n",
    "        print(\"Swimming...\")\n",
    "\n",
    "class Bird:\n",
    "    def fly(self):\n",
    "        print(\"Flying...\")\n",
    "\n",
    "class Penguin(Bird, Fish):\n",
    "    pass\n",
    "\n",
    "my_penguin = Penguin()\n",
    "\n",
    "my_penguin.fly()   # Output: Flying...\n",
    "my_penguin.swim()  # Output: Swimming...\n",
    "\n",
    "3.Multilevel Inheritance: Multilevel inheritance involves a chain of inheritance, where a derived \n",
    "class becomes the base class for another derived class. It creates a multilevel hierarchy. Here's an example:\n",
    "\n",
    "class Vehicle:\n",
    "    def move(self):\n",
    "        print(\"Moving...\")\n",
    "\n",
    "class Car(Vehicle):\n",
    "    def drive(self):\n",
    "        print(\"Driving...\")\n",
    "\n",
    "class SportsCar(Car):\n",
    "    def race(self):\n",
    "        print(\"Racing...\")\n",
    "\n",
    "my_sports_car = SportsCar()\n",
    "\n",
    "my_sports_car.move()  # Output: Moving...\n",
    "my_sports_car.drive()  # Output: Driving...\n",
    "\n",
    "my_sports_car.race()  # Output: Racing...\n",
    "\n",
    "\n",
    "\n"
   ]
  }
 ],
 "metadata": {
  "kernelspec": {
   "display_name": "Python 3 (ipykernel)",
   "language": "python",
   "name": "python3"
  },
  "language_info": {
   "codemirror_mode": {
    "name": "ipython",
    "version": 3
   },
   "file_extension": ".py",
   "mimetype": "text/x-python",
   "name": "python",
   "nbconvert_exporter": "python",
   "pygments_lexer": "ipython3",
   "version": "3.10.8"
  }
 },
 "nbformat": 4,
 "nbformat_minor": 5
}
